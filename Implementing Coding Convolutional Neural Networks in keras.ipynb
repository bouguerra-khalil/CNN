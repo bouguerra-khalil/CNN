{
 "cells": [
  {
   "cell_type": "markdown",
   "metadata": {
    "colab_type": "text",
    "id": "KqvRYnpQxwCx"
   },
   "source": [
    "# Implementing Coding Convolutional Neural Networks in keras :\n",
    "\n",
    "## Creating the CNN model in Keras using the Sequential API\n",
    "\n",
    "The Tensorflow interface, while simpler than coding a complex neural network by hand, is nevertheless somewhat laborious to use; all the variables have to be specifically created, we have to create a session etc. Luckily, a package was created which acts as a layer above Tensorflow (and other packages) to simplify the coding process. This package is called Keras.\n",
    "\n",
    "We are now going to create the same network as in part 1 with Keras.The interfance is quite simplified in comparison to that of Tensorflow.\n",
    "\n",
    "Here is a summary of the network again\n",
    "\n",
    "- The input of the CNN is a set of (m,n,3) image tensors (m and n depend on the dataset).\n",
    "- We apply \n",
    "    - a Convolutional layer of 32 filters of shape (3,3), with stride (1,1) and padding='same' (i.e. we do not apply zero-padding)\n",
    "    - additive biases\n",
    "    - a ReLu activation function\n",
    "    \n",
    "    - a Convolutional layer of 32 filters of shape (3,3), with stride (1,1) and padding='same' (i.e. we do not apply zero-padding)\n",
    "    - additive biases\n",
    "    - a ReLu activation function\n",
    "    - a Max Pooling Layer of shape (2,2) and stride (2,2) (i.e. we reduce by two the size in each dimension)\n",
    "    \n",
    "    - a Convolutional layer of 32 filters of shape (3,3), with stride (1,1) and padding='same' (i.e. we do not apply zero-padding)\n",
    "    - additive biases\n",
    "    - a ReLu activation function\n",
    "    - a Max Pooling Layer of shape (2,2) and stride (2,2) (i.e. we reduce by two the size in each dimension)\n",
    "    \n",
    "    - We then Flatten the data (reduce them to a vector in order to be able to apply a Fully-Connected layer to it)\n",
    "    - A softmax activation function which outputs are the $P(y_c | X)$ (multi-class problem)\n",
    "\n"
   ]
  },
  {
   "cell_type": "markdown",
   "metadata": {
    "colab_type": "text",
    "id": "d68nxx4SxwC3"
   },
   "source": [
    "Keras has a simple way of adding layers to create a neural network. First, we will indicate to Keras that the model is 'sequential', that is to say, a straight-forward CNN. For this, we can use the following function :\n",
    "- ```model = Sequential()```\n",
    "\n",
    "After this, we can add layers with the function.\n",
    "\n",
    "- ```model.add()```\n",
    "\n",
    "we can then use the ```Conv2D```, ```Activation```, ```MaxPooling2D```, ```Flatten``` and ```Dense``` (fully connected) functions to specify different layer types. we will have to specify the parameters of these functions to create the network architecture.\n"
   ]
  },
  {
   "cell_type": "markdown",
   "metadata": {
    "colab_type": "text",
    "id": "o0ztmcNxxwC8"
   },
   "source": [
    "## We first import some keras packages"
   ]
  },
  {
   "cell_type": "code",
   "execution_count": 1,
   "metadata": {
    "colab": {
     "base_uri": "https://localhost:8080/",
     "height": 69
    },
    "colab_type": "code",
    "id": "Yq-4f3SpxwC_",
    "outputId": "16aef5ae-3bb5-4a43-a941-1217eabc8eaa"
   },
   "outputs": [
    {
     "name": "stdout",
     "output_type": "stream",
     "text": [
      "2.4.3\n"
     ]
    }
   ],
   "source": [
    "%matplotlib inline\n",
    "import matplotlib.pyplot as plt\n",
    "import numpy as np\n",
    "from keras.utils.np_utils import to_categorical\n",
    "import tensorflow as tf\n",
    "import keras\n",
    "from keras.models import Sequential\n",
    "from keras.layers import Dense, Dropout, Activation, Flatten\n",
    "from keras.layers import Conv2D, MaxPooling2D\n",
    "from keras import optimizers\n",
    "print(keras.__version__)"
   ]
  },
  {
   "cell_type": "markdown",
   "metadata": {
    "colab_type": "text",
    "id": "k6WGpEoaxwDS"
   },
   "source": [
    "## Define the model parameters again"
   ]
  },
  {
   "cell_type": "code",
   "execution_count": 2,
   "metadata": {
    "colab": {},
    "colab_type": "code",
    "id": "oPTvFqOMxwDU"
   },
   "outputs": [],
   "source": [
    "learning_rate = 0.01\n",
    "n_epochs = 10\n",
    "batch_size = 64\n",
    "\n",
    "# number of convolutional filters to use\n",
    "nb_filters = 32\n",
    "# convolution kernel size\n",
    "kernel_size = (3, 3)\n",
    "# size of pooling area for max pooling\n",
    "pool_size = (2, 2)\n",
    "# re-define the input shapes\n",
    "input_shape = (32, 32, 3)\n",
    "nb_classes = 10"
   ]
  },
  {
   "cell_type": "markdown",
   "metadata": {
    "colab_type": "text",
    "id": "6ZSQvFnHxwDj"
   },
   "source": [
    "## Import the CIFAR10 dataset"
   ]
  },
  {
   "cell_type": "code",
   "execution_count": 3,
   "metadata": {
    "colab": {
     "base_uri": "https://localhost:8080/",
     "height": 104
    },
    "colab_type": "code",
    "id": "SblCNGR3xwDn",
    "outputId": "2082030c-2e90-4a38-ab6e-65b49945a199"
   },
   "outputs": [
    {
     "name": "stdout",
     "output_type": "stream",
     "text": [
      "X_train shape: (50000, 32, 32, 3)\n",
      "Y_train shape: (50000, 10)\n",
      "There is 50000 train data\n",
      "There is 10000 test data\n",
      "32 32 3\n"
     ]
    }
   ],
   "source": [
    "## Import the CIFAR10 data and carry out some pre-processing\n",
    "from keras.datasets import cifar10\n",
    "(X_train, y_train), (X_test, y_test) = cifar10.load_data()\n",
    "\n",
    "# input image dimensions\n",
    "img_rows, img_cols, nb_channels = X_train.shape[1], X_train.shape[2], X_train.shape[3]\n",
    "\n",
    "# In case depth is 1 (black and white pictures) -> reshape to proper format\n",
    "X_train = X_train.reshape(X_train.shape[0], img_rows, img_cols, nb_channels)\n",
    "X_test = X_test.reshape(X_test.shape[0], img_rows, img_cols, nb_channels)\n",
    "\n",
    "X_train = X_train.astype('float32')\n",
    "X_test = X_test.astype('float32')\n",
    "X_train /= 255.0\n",
    "X_test /= 255.0\n",
    "\n",
    "Y_train = to_categorical(y_train)\n",
    "Y_test = to_categorical(y_test)\n",
    "\n",
    "nb_classes = Y_train.shape[1]\n",
    "\n",
    "print('X_train shape:', X_train.shape)\n",
    "#print('y_train shape:', y_train.shape)\n",
    "print('Y_train shape:', Y_train.shape)\n",
    "print('There is {} train data'.format(X_train.shape[0]))\n",
    "print('There is {} test data'.format(X_test.shape[0]))\n",
    "print(img_rows, img_cols, nb_channels)\n",
    "\n",
    "\n",
    "# the CIFAR10 categories\n",
    "cifar_10_list = [ 'airplane', 'automobile','bird','cat','deer','dog','frog','horse','ship','truck']\n",
    "\n",
    "#modify the number of input channels \n",
    "n_h_0 = nb_channels\n",
    "# add more epochs\n",
    "n_epochs = 100\n"
   ]
  },
  {
   "cell_type": "code",
   "execution_count": 4,
   "metadata": {
    "colab": {
     "base_uri": "https://localhost:8080/",
     "height": 52
    },
    "colab_type": "code",
    "id": "Hal5CZh5xwDx",
    "outputId": "30c083cb-867e-4503-84f4-cb60ec422793"
   },
   "outputs": [
    {
     "name": "stdout",
     "output_type": "stream",
     "text": [
      "X_train shape: (10000, 32, 32, 3)\n",
      "Y_train shape: (10000, 10)\n"
     ]
    }
   ],
   "source": [
    "# clip data\n",
    "\n",
    "max_data = 10000\n",
    "X_train = X_train[0:max_data,:,:,:]\n",
    "X_test =  X_test[0:max_data,:,:,:]\n",
    "Y_train = Y_train[0:max_data,:]\n",
    "Y_test =  Y_test[0:max_data,:]\n",
    "print('X_train shape:', X_train.shape)\n",
    "print('Y_train shape:', Y_train.shape)"
   ]
  },
  {
   "cell_type": "markdown",
   "metadata": {
    "colab_type": "text",
    "id": "IxjjXbKwxwD9"
   },
   "source": [
    "## Create the CNN now with the network parameters specified above, using the Sequential() API of Keras"
   ]
  },
  {
   "cell_type": "code",
   "execution_count": 5,
   "metadata": {
    "colab": {},
    "colab_type": "code",
    "id": "f53aAx88xwD_"
   },
   "outputs": [],
   "source": [
    "model = Sequential([\n",
    "    Conv2D(nb_filters,\n",
    "           kernel_size,\n",
    "           strides=(1,1),\n",
    "           padding=\"SAME\",\n",
    "           activation=tf.nn.relu,\n",
    "           input_shape=input_shape\n",
    "          ),\n",
    "    Conv2D(nb_filters,\n",
    "           kernel_size,\n",
    "           strides=(1,1),\n",
    "           padding=\"SAME\",\n",
    "           activation=tf.nn.relu,\n",
    "          ),\n",
    "    MaxPooling2D(\n",
    "        pool_size=(2, 2),\n",
    "        strides=(2,2),\n",
    "        padding='SAME'\n",
    "        ),\n",
    "    Conv2D(nb_filters,\n",
    "           kernel_size,\n",
    "           strides=(1,1),\n",
    "           padding=\"SAME\",\n",
    "           activation=tf.nn.relu,\n",
    "          ),\n",
    "    MaxPooling2D(\n",
    "        pool_size=(2, 2),\n",
    "        strides=(2,2),\n",
    "        padding='SAME'\n",
    "        ),\n",
    "    Flatten(),\n",
    "    Dense(\n",
    "        units=512,\n",
    "        activation=tf.nn.relu,\n",
    "    ),\n",
    "    Dense(\n",
    "        units=256,\n",
    "        activation=tf.nn.relu,\n",
    "    ),Dense(\n",
    "        units=32,\n",
    "        activation=tf.nn.relu,\n",
    "    ),\n",
    "\n",
    "    Dense(\n",
    "        units=nb_classes,\n",
    "        activation=tf.nn.softmax,\n",
    "    )               \n",
    "])\n",
    "\n"
   ]
  },
  {
   "cell_type": "markdown",
   "metadata": {
    "colab_type": "text",
    "id": "FIPNgH0VxwEN"
   },
   "source": [
    "## Compile the model\n",
    "\n",
    "This has created the computational graph correspoding to the network. However, we also need to define the ```loss``` that we will minimize and the ```optimizer``` (the specific algorithm used to perform gradient descent). This can be done with the following simple syntax :"
   ]
  },
  {
   "cell_type": "code",
   "execution_count": 6,
   "metadata": {
    "colab": {},
    "colab_type": "code",
    "id": "M676o04hxwEO"
   },
   "outputs": [],
   "source": [
    "model.compile(loss='categorical_crossentropy',\n",
    "              optimizer=optimizers.Adam(lr=learning_rate),\n",
    "              metrics=['accuracy'])"
   ]
  },
  {
   "cell_type": "markdown",
   "metadata": {
    "colab_type": "text",
    "id": "vHPDsDYUxwEW"
   },
   "source": [
    "## Summary of the network\n",
    "\n",
    "Keras has an extremely useful function ```summary()``` which summarises the network we have created in a viewer-friendly manner :"
   ]
  },
  {
   "cell_type": "code",
   "execution_count": 7,
   "metadata": {
    "colab": {
     "base_uri": "https://localhost:8080/",
     "height": 503
    },
    "colab_type": "code",
    "id": "6063OfKzxwEX",
    "outputId": "9ea33f5b-225a-4d05-d474-0fca14b0dd09"
   },
   "outputs": [
    {
     "name": "stdout",
     "output_type": "stream",
     "text": [
      "Model: \"sequential\"\n",
      "_________________________________________________________________\n",
      "Layer (type)                 Output Shape              Param #   \n",
      "=================================================================\n",
      "conv2d (Conv2D)              (None, 32, 32, 32)        896       \n",
      "_________________________________________________________________\n",
      "conv2d_1 (Conv2D)            (None, 32, 32, 32)        9248      \n",
      "_________________________________________________________________\n",
      "max_pooling2d (MaxPooling2D) (None, 16, 16, 32)        0         \n",
      "_________________________________________________________________\n",
      "conv2d_2 (Conv2D)            (None, 16, 16, 32)        9248      \n",
      "_________________________________________________________________\n",
      "max_pooling2d_1 (MaxPooling2 (None, 8, 8, 32)          0         \n",
      "_________________________________________________________________\n",
      "flatten (Flatten)            (None, 2048)              0         \n",
      "_________________________________________________________________\n",
      "dense (Dense)                (None, 512)               1049088   \n",
      "_________________________________________________________________\n",
      "dense_1 (Dense)              (None, 256)               131328    \n",
      "_________________________________________________________________\n",
      "dense_2 (Dense)              (None, 32)                8224      \n",
      "_________________________________________________________________\n",
      "dense_3 (Dense)              (None, 10)                330       \n",
      "=================================================================\n",
      "Total params: 1,208,362\n",
      "Trainable params: 1,208,362\n",
      "Non-trainable params: 0\n",
      "_________________________________________________________________\n"
     ]
    }
   ],
   "source": [
    "model.summary()"
   ]
  },
  {
   "cell_type": "markdown",
   "metadata": {
    "colab_type": "text",
    "id": "V6bnovz3xwEg"
   },
   "source": [
    "## Perform the training\n",
    "\n",
    "The training can be carried out with an extremely simple syntax :"
   ]
  },
  {
   "cell_type": "code",
   "execution_count": null,
   "metadata": {
    "colab": {
     "base_uri": "https://localhost:8080/",
     "height": 1000
    },
    "colab_type": "code",
    "id": "szVM6cm9xwEj",
    "outputId": "b8fec479-3d00-4de7-e05f-9683a1ac16da"
   },
   "outputs": [],
   "source": [
    "model.fit(X_train, Y_train,\n",
    "          batch_size=batch_size, \n",
    "          nb_epoch=n_epochs,\n",
    "          verbose=1, \n",
    "          validation_data=(X_test, Y_test))"
   ]
  },
  {
   "cell_type": "markdown",
   "metadata": {
    "colab_type": "text",
    "id": "aGv_hMy8xwEs"
   },
   "source": [
    "## We evaluate the performances of the model on the test data"
   ]
  },
  {
   "cell_type": "code",
   "execution_count": 0,
   "metadata": {
    "colab": {
     "base_uri": "https://localhost:8080/",
     "height": 52
    },
    "colab_type": "code",
    "id": "VyVThWCbxwEu",
    "outputId": "088aa42f-332a-4af2-900a-4a7718e4121e"
   },
   "outputs": [
    {
     "name": "stdout",
     "output_type": "stream",
     "text": [
      "Test score: 6.528765165710449\n",
      "Test accuracy: 0.367900013923645\n"
     ]
    }
   ],
   "source": [
    "score = model.evaluate(X_test, Y_test, verbose=False)\n",
    "print('Test score:', score[0])\n",
    "print('Test accuracy:', score[1])"
   ]
  },
  {
   "cell_type": "markdown",
   "metadata": {
    "colab_type": "text",
    "id": "fJvtb8v3xwE2"
   },
   "source": [
    "Let's take a look at what the network has learned. What do you think ?"
   ]
  },
  {
   "cell_type": "code",
   "execution_count": 0,
   "metadata": {
    "colab": {
     "base_uri": "https://localhost:8080/",
     "height": 338
    },
    "colab_type": "code",
    "id": "bzL2G-ZrxwE6",
    "outputId": "9b747f0e-e305-4eec-ba24-7f9395ca25b9"
   },
   "outputs": [
    {
     "data": {
      "image/png": "[encoded data removed]",
      "text/plain": [
       "<Figure size 720x432 with 10 Axes>"
      ]
     },
     "metadata": {
      "needs_background": "light",
      "tags": []
     },
     "output_type": "display_data"
    }
   ],
   "source": [
    "plt.figure(figsize=(10, 6))\n",
    "for idx,i in enumerate(range(100,110)):\n",
    "    plt.subplot(2, 5, idx+1)\n",
    "    rand_ind = np.random.randint(0,X_test.shape[0])\n",
    "    predicted_class = np.argmax(np.squeeze(model.predict(np.expand_dims(X_test[rand_ind,:,:,:],axis=0))))\n",
    "    plt.imshow(X_test[rand_ind,:,:,:])\n",
    "    plt.title(cifar_10_list[int(predicted_class)])"
   ]
  }
 ],
 "metadata": {
  "accelerator": "GPU",
  "colab": {
   "collapsed_sections": [],
   "name": "tp_ima_205_cnn_part_2_for_students.ipynb",
   "provenance": []
  },
  "kernelspec": {
   "display_name": "Python 3",
   "language": "python",
   "name": "python3"
  },
  "language_info": {
   "codemirror_mode": {
    "name": "ipython",
    "version": 3
   },
   "file_extension": ".py",
   "mimetype": "text/x-python",
   "name": "python",
   "nbconvert_exporter": "python",
   "pygments_lexer": "ipython3",
   "version": "3.6.9"
  }
 },
 "nbformat": 4,
 "nbformat_minor": 1
}
